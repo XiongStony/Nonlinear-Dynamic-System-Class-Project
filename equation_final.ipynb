{
 "cells": [
  {
   "cell_type": "markdown",
   "id": "69c7e14f-681c-46ec-970c-cceea42f04d6",
   "metadata": {},
   "source": [
    "## The first term of $\\dot s = \\alpha s + \\beta s + \\tau (s) $"
   ]
  },
  {
   "cell_type": "markdown",
   "id": "4323abd4-dc71-422d-b426-51a986b29e21",
   "metadata": {},
   "source": [
    "We know that collisions as interactions within the population of space debris following assumptions of quadratic dependence  \n",
    "\n",
    "$\\dot n_{coll} = Cs^2$  (1)\n",
    "\n",
    "Where $C$ is a constant, $ n_{coll} $ is the number of collision events that happened. And we know that every collision creates 40 debris averagely, then we can have:  \n",
    "\n",
    "$ \\dot s_{coll} = 40 \\dot n_{coll}$ (2)\n",
    "\n",
    "substitude (2) into (1): \n",
    "\n",
    "$\\dot s_{coll} = 40 C \\cdot s^2$ (3)\n",
    "\n",
    "And because there are 40 new debris accounted for collisions in past ten years, so $ \\dot s_{est} = 40 $ \n",
    "And $N_{av}$ is the average trackable debris population size throughout the 65-year period within which collision and fragmentation events were recorded, $N_{av} ≈ N_{𝑡𝑜𝑡}/65 = 10000$.  \n",
    "Substitude  \n",
    "$\\dot s_{coll} = \\dot s_{est} = 40 $  \n",
    "$s = N_{av} = 10000 $  \n",
    "into eq (3) \n",
    "We can have \n",
    "\n",
    "$ C = 1/N_{av}^2$  \n",
    "$ C = 1/10^8$. \n",
    "\n",
    "Then take this back to eq(3) We can have   \n",
    "\n",
    "$ \\dot s_{coll} = 4 \\cdot 10^{-7}\\cdot s^2  , \\dot s_{coll} = \\alpha \\cdot s^2$(4)\n",
    "\n",
    "Thus $ \\alpha = 4 \\cdot 10^{-7}$\n"
   ]
  },
  {
   "cell_type": "markdown",
   "id": "87c2bb7c-fd8f-4554-a5f7-f66fc9b1f3da",
   "metadata": {},
   "source": [
    "## The second term and third term"
   ]
  },
  {
   "cell_type": "markdown",
   "id": "fc922a3d-128f-46b8-8a10-f6e350d413d2",
   "metadata": {},
   "source": [
    "We also know that the frequency of cleanup efforts as well as spontaneous fragmentation events is proportional to the amount of debris in space, their change rate can be combined and represent as $\\beta $. Thus,  \n",
    "$\\dot s_{spon} = \\beta s$  \n",
    "While for new missions there are two possibility one is $ \\tau (s) = \\gamma $ the orther one is $ \\tau (s) = \\delta/s$.   \n",
    "Also, physical assumption states that the collision frequency is proportional to the product of particle quantities.  \n",
    "The loss of spacecrafts that lunched within a year can be derived as \n",
    "\n",
    "$ f \\propto s_{act} \\cdot s $ \n",
    "\n",
    "$s_{act}$ is the number of active spacecraft that lunched within a year. f is the casualties of the spacecrafts or number of collisions.\n",
    "\n",
    "If we want $f$ (casualties) to be a constant \n",
    "\n",
    "$ s_{act} = \\delta/s$ must be fulfilled.\n",
    "\n",
    "Then we can rewrite that $ \\tau(s) = \\delta/s + \\gamma$"
   ]
  },
  {
   "cell_type": "markdown",
   "id": "40552d9c-5795-46cb-92cf-30163d73517f",
   "metadata": {},
   "source": [
    "Therefore, the total increasing number debris within an year is  \n",
    "\n",
    "$ \\dot s = \\alpha s^2 + \\beta s + \\tau(s)$"
   ]
  },
  {
   "cell_type": "markdown",
   "id": "9e007857-41b4-40e2-880c-3e3f64a02d5f",
   "metadata": {},
   "source": [
    "## Derive $s_k \\approx 1/\\alpha $"
   ]
  },
  {
   "cell_type": "markdown",
   "id": "59ade514-a887-422f-8495-b6ce9db4c167",
   "metadata": {},
   "source": [
    "From eq(4) we know $ \\dot s_{coll} = \\alpha \\cdot s^2$  \n",
    "\n",
    "Thus $ f \\sim \\alpha s_{deb}  \\cdot s_{act}$(5)\n",
    "\n",
    "where $s_{act}$is the number of active mission spacecrafts, $s_{deb}$ is the number of debris. $ f $ is the number of collisions between active mission and space debris can be expected per year.\n",
    "\n",
    "If there is one collision between an active mission and space debris can be expected per year, substitude $ f = 1 $, $ s_{act} = 1$, $ s = s_k $ into eq(5)\n",
    "\n",
    "We have $s_k \\approx 1/\\alpha$"
   ]
  },
  {
   "cell_type": "markdown",
   "id": "aa529233-3ee3-40dc-8410-9827f9a3df15",
   "metadata": {},
   "source": [
    "## Derive $ t_k = \\int_{s_0}^{s_k} (ds/dt)^{-1} \\, ds$"
   ]
  },
  {
   "cell_type": "markdown",
   "id": "e5abfcf4-22da-4259-ba70-5595dff3f6c9",
   "metadata": {},
   "source": [
    "$ t_k = t(s_k) - t(s_0) = \\int_{s_0}^{s_k} dt/ds\\, ds= \\int_{s_0}^{s_k} (ds/dt)^{-1} \\, ds$"
   ]
  },
  {
   "cell_type": "markdown",
   "id": "64c4c73a-2b5c-4e05-884f-8f1b133e2837",
   "metadata": {},
   "source": [
    "$ \\beta \\geq \\sqrt{4\\gamma\\alpha} \\quad \\text{and} \\quad \\beta \\leq -\\sqrt{4\\gamma\\alpha} $ are already derived well in Supplementary Section there is no need to derive again."
   ]
  },
  {
   "cell_type": "code",
   "execution_count": null,
   "id": "277eabf6-f646-4ac1-b17f-4b7ceca15102",
   "metadata": {},
   "outputs": [],
   "source": []
  }
 ],
 "metadata": {
  "kernelspec": {
   "display_name": "Python 3 (ipykernel)",
   "language": "python",
   "name": "python3"
  },
  "language_info": {
   "codemirror_mode": {
    "name": "ipython",
    "version": 3
   },
   "file_extension": ".py",
   "mimetype": "text/x-python",
   "name": "python",
   "nbconvert_exporter": "python",
   "pygments_lexer": "ipython3",
   "version": "3.12.4"
  }
 },
 "nbformat": 4,
 "nbformat_minor": 5
}
